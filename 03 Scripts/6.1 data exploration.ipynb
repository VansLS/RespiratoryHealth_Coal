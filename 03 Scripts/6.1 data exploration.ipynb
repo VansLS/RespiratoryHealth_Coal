{
 "cells": [
  {
   "cell_type": "markdown",
   "id": "9a097cdc",
   "metadata": {},
   "source": [
    "# Contents"
   ]
  },
  {
   "cell_type": "markdown",
   "id": "4582560a",
   "metadata": {},
   "source": [
    "> Import libraries and data\n",
    "\n",
    "> Data check: shape, head, missing data, dupes\n",
    "\n",
    "> Data types\n",
    "\n",
    "> Descriptive statistics"
   ]
  },
  {
   "cell_type": "markdown",
   "id": "17291648",
   "metadata": {},
   "source": [
    "# Import libraries"
   ]
  },
  {
   "cell_type": "code",
   "execution_count": 1,
   "id": "b4585a21",
   "metadata": {},
   "outputs": [],
   "source": [
    "import pandas as pd\n",
    "import numpy as np\n",
    "import os\n",
    "import matplotlib.pyplot as plt\n",
    "import seaborn as sns\n",
    "import scipy"
   ]
  },
  {
   "cell_type": "markdown",
   "id": "1242f4c4",
   "metadata": {},
   "source": [
    "# Import data"
   ]
  },
  {
   "cell_type": "code",
   "execution_count": 4,
   "id": "22753869",
   "metadata": {},
   "outputs": [],
   "source": [
    "path=r'/Users/vanessalimsingh/Achievement 6 June 2024'"
   ]
  },
  {
   "cell_type": "code",
   "execution_count": 13,
   "id": "425bf8ad",
   "metadata": {},
   "outputs": [],
   "source": [
    "df=pd.read_csv(os.path.join(path,'02 Data','Original Data','WHO_Respiratory_MortalityRate.csv'))"
   ]
  },
  {
   "cell_type": "code",
   "execution_count": 40,
   "id": "fba5a841",
   "metadata": {},
   "outputs": [
    {
     "data": {
      "text/plain": [
       "(309078, 12)"
      ]
     },
     "execution_count": 40,
     "metadata": {},
     "output_type": "execute_result"
    }
   ],
   "source": [
    "df.shape"
   ]
  },
  {
   "cell_type": "code",
   "execution_count": 14,
   "id": "2d051521",
   "metadata": {},
   "outputs": [
    {
     "data": {
      "text/html": [
       "<div>\n",
       "<style scoped>\n",
       "    .dataframe tbody tr th:only-of-type {\n",
       "        vertical-align: middle;\n",
       "    }\n",
       "\n",
       "    .dataframe tbody tr th {\n",
       "        vertical-align: top;\n",
       "    }\n",
       "\n",
       "    .dataframe thead th {\n",
       "        text-align: right;\n",
       "    }\n",
       "</style>\n",
       "<table border=\"1\" class=\"dataframe\">\n",
       "  <thead>\n",
       "    <tr style=\"text-align: right;\">\n",
       "      <th></th>\n",
       "      <th>Region Code</th>\n",
       "      <th>Region Name</th>\n",
       "      <th>Country Code</th>\n",
       "      <th>Country Name</th>\n",
       "      <th>Year</th>\n",
       "      <th>Sex</th>\n",
       "      <th>Age group code</th>\n",
       "      <th>Age Group</th>\n",
       "      <th>Number</th>\n",
       "      <th>Percentage of cause-specific deaths out of total deaths</th>\n",
       "      <th>Age-standardized death rate per 100 000 standard population</th>\n",
       "      <th>Death rate per 100 000 population</th>\n",
       "    </tr>\n",
       "  </thead>\n",
       "  <tbody>\n",
       "    <tr>\n",
       "      <th>0</th>\n",
       "      <td>EU</td>\n",
       "      <td>Europe</td>\n",
       "      <td>ALB</td>\n",
       "      <td>Albania</td>\n",
       "      <td>1987</td>\n",
       "      <td>All</td>\n",
       "      <td>Age_unknown</td>\n",
       "      <td>[Unknown]</td>\n",
       "      <td>0.0</td>\n",
       "      <td>NaN</td>\n",
       "      <td>NaN</td>\n",
       "      <td>NaN</td>\n",
       "    </tr>\n",
       "    <tr>\n",
       "      <th>1</th>\n",
       "      <td>EU</td>\n",
       "      <td>Europe</td>\n",
       "      <td>ALB</td>\n",
       "      <td>Albania</td>\n",
       "      <td>1987</td>\n",
       "      <td>Male</td>\n",
       "      <td>Age_all</td>\n",
       "      <td>[All]</td>\n",
       "      <td>311.0</td>\n",
       "      <td>3.227480</td>\n",
       "      <td>37.464405</td>\n",
       "      <td>19.631360</td>\n",
       "    </tr>\n",
       "    <tr>\n",
       "      <th>2</th>\n",
       "      <td>EU</td>\n",
       "      <td>Europe</td>\n",
       "      <td>ALB</td>\n",
       "      <td>Albania</td>\n",
       "      <td>1987</td>\n",
       "      <td>Male</td>\n",
       "      <td>Age00</td>\n",
       "      <td>[0]</td>\n",
       "      <td>5.0</td>\n",
       "      <td>0.376506</td>\n",
       "      <td>NaN</td>\n",
       "      <td>11.820331</td>\n",
       "    </tr>\n",
       "    <tr>\n",
       "      <th>3</th>\n",
       "      <td>EU</td>\n",
       "      <td>Europe</td>\n",
       "      <td>ALB</td>\n",
       "      <td>Albania</td>\n",
       "      <td>1987</td>\n",
       "      <td>Male</td>\n",
       "      <td>Age01_04</td>\n",
       "      <td>[1-4]</td>\n",
       "      <td>7.0</td>\n",
       "      <td>1.112878</td>\n",
       "      <td>NaN</td>\n",
       "      <td>4.691689</td>\n",
       "    </tr>\n",
       "    <tr>\n",
       "      <th>4</th>\n",
       "      <td>EU</td>\n",
       "      <td>Europe</td>\n",
       "      <td>ALB</td>\n",
       "      <td>Albania</td>\n",
       "      <td>1987</td>\n",
       "      <td>Male</td>\n",
       "      <td>Age05_09</td>\n",
       "      <td>[5-9]</td>\n",
       "      <td>0.0</td>\n",
       "      <td>0.000000</td>\n",
       "      <td>NaN</td>\n",
       "      <td>0.000000</td>\n",
       "    </tr>\n",
       "  </tbody>\n",
       "</table>\n",
       "</div>"
      ],
      "text/plain": [
       "  Region Code Region Name Country Code Country Name  Year   Sex  \\\n",
       "0          EU      Europe          ALB      Albania  1987   All   \n",
       "1          EU      Europe          ALB      Albania  1987  Male   \n",
       "2          EU      Europe          ALB      Albania  1987  Male   \n",
       "3          EU      Europe          ALB      Albania  1987  Male   \n",
       "4          EU      Europe          ALB      Albania  1987  Male   \n",
       "\n",
       "  Age group code  Age Group  Number  \\\n",
       "0    Age_unknown  [Unknown]     0.0   \n",
       "1        Age_all      [All]   311.0   \n",
       "2          Age00        [0]     5.0   \n",
       "3       Age01_04      [1-4]     7.0   \n",
       "4       Age05_09      [5-9]     0.0   \n",
       "\n",
       "   Percentage of cause-specific deaths out of total deaths  \\\n",
       "0                                                NaN         \n",
       "1                                           3.227480         \n",
       "2                                           0.376506         \n",
       "3                                           1.112878         \n",
       "4                                           0.000000         \n",
       "\n",
       "   Age-standardized death rate per 100 000 standard population  \\\n",
       "0                                                NaN             \n",
       "1                                          37.464405             \n",
       "2                                                NaN             \n",
       "3                                                NaN             \n",
       "4                                                NaN             \n",
       "\n",
       "   Death rate per 100 000 population  \n",
       "0                                NaN  \n",
       "1                          19.631360  \n",
       "2                          11.820331  \n",
       "3                           4.691689  \n",
       "4                           0.000000  "
      ]
     },
     "execution_count": 14,
     "metadata": {},
     "output_type": "execute_result"
    }
   ],
   "source": [
    "df.head(\n",
    ")"
   ]
  },
  {
   "cell_type": "code",
   "execution_count": 28,
   "id": "04165628",
   "metadata": {},
   "outputs": [
    {
     "data": {
      "text/html": [
       "<div>\n",
       "<style scoped>\n",
       "    .dataframe tbody tr th:only-of-type {\n",
       "        vertical-align: middle;\n",
       "    }\n",
       "\n",
       "    .dataframe tbody tr th {\n",
       "        vertical-align: top;\n",
       "    }\n",
       "\n",
       "    .dataframe thead th {\n",
       "        text-align: right;\n",
       "    }\n",
       "</style>\n",
       "<table border=\"1\" class=\"dataframe\">\n",
       "  <thead>\n",
       "    <tr style=\"text-align: right;\">\n",
       "      <th></th>\n",
       "      <th>Region Code</th>\n",
       "      <th>Region Name</th>\n",
       "      <th>Country Code</th>\n",
       "      <th>Country Name</th>\n",
       "      <th>Year</th>\n",
       "      <th>Sex</th>\n",
       "      <th>Age group code</th>\n",
       "      <th>Age Group</th>\n",
       "      <th>Number</th>\n",
       "      <th>Percentage of cause-specific deaths out of total deaths</th>\n",
       "      <th>Age-standardized death rate per 100 000 standard population</th>\n",
       "      <th>Death rate per 100 000 population</th>\n",
       "    </tr>\n",
       "  </thead>\n",
       "  <tbody>\n",
       "    <tr>\n",
       "      <th>309073</th>\n",
       "      <td>AS</td>\n",
       "      <td>Asia</td>\n",
       "      <td>SAU</td>\n",
       "      <td>Saudi Arabia</td>\n",
       "      <td>2021</td>\n",
       "      <td>Female</td>\n",
       "      <td>Age65_69</td>\n",
       "      <td>[65-69]</td>\n",
       "      <td>57.0</td>\n",
       "      <td>2.169775</td>\n",
       "      <td>NaN</td>\n",
       "      <td>40.006176</td>\n",
       "    </tr>\n",
       "    <tr>\n",
       "      <th>309074</th>\n",
       "      <td>AS</td>\n",
       "      <td>Asia</td>\n",
       "      <td>SAU</td>\n",
       "      <td>Saudi Arabia</td>\n",
       "      <td>2021</td>\n",
       "      <td>Female</td>\n",
       "      <td>Age70_74</td>\n",
       "      <td>[70-74]</td>\n",
       "      <td>82.0</td>\n",
       "      <td>2.718833</td>\n",
       "      <td>NaN</td>\n",
       "      <td>91.586342</td>\n",
       "    </tr>\n",
       "    <tr>\n",
       "      <th>309075</th>\n",
       "      <td>AS</td>\n",
       "      <td>Asia</td>\n",
       "      <td>SAU</td>\n",
       "      <td>Saudi Arabia</td>\n",
       "      <td>2021</td>\n",
       "      <td>Female</td>\n",
       "      <td>Age75_79</td>\n",
       "      <td>[75-79]</td>\n",
       "      <td>91.0</td>\n",
       "      <td>2.504817</td>\n",
       "      <td>NaN</td>\n",
       "      <td>143.149284</td>\n",
       "    </tr>\n",
       "    <tr>\n",
       "      <th>309076</th>\n",
       "      <td>AS</td>\n",
       "      <td>Asia</td>\n",
       "      <td>SAU</td>\n",
       "      <td>Saudi Arabia</td>\n",
       "      <td>2021</td>\n",
       "      <td>Female</td>\n",
       "      <td>Age80_84</td>\n",
       "      <td>[80-84]</td>\n",
       "      <td>88.0</td>\n",
       "      <td>2.571596</td>\n",
       "      <td>NaN</td>\n",
       "      <td>227.337312</td>\n",
       "    </tr>\n",
       "    <tr>\n",
       "      <th>309077</th>\n",
       "      <td>AS</td>\n",
       "      <td>Asia</td>\n",
       "      <td>SAU</td>\n",
       "      <td>Saudi Arabia</td>\n",
       "      <td>2021</td>\n",
       "      <td>Female</td>\n",
       "      <td>Age85_over</td>\n",
       "      <td>[85+]</td>\n",
       "      <td>131.0</td>\n",
       "      <td>2.611122</td>\n",
       "      <td>NaN</td>\n",
       "      <td>374.831898</td>\n",
       "    </tr>\n",
       "  </tbody>\n",
       "</table>\n",
       "</div>"
      ],
      "text/plain": [
       "       Region Code Region Name Country Code  Country Name  Year     Sex  \\\n",
       "309073          AS        Asia          SAU  Saudi Arabia  2021  Female   \n",
       "309074          AS        Asia          SAU  Saudi Arabia  2021  Female   \n",
       "309075          AS        Asia          SAU  Saudi Arabia  2021  Female   \n",
       "309076          AS        Asia          SAU  Saudi Arabia  2021  Female   \n",
       "309077          AS        Asia          SAU  Saudi Arabia  2021  Female   \n",
       "\n",
       "       Age group code Age Group  Number  \\\n",
       "309073       Age65_69   [65-69]    57.0   \n",
       "309074       Age70_74   [70-74]    82.0   \n",
       "309075       Age75_79   [75-79]    91.0   \n",
       "309076       Age80_84   [80-84]    88.0   \n",
       "309077     Age85_over     [85+]   131.0   \n",
       "\n",
       "        Percentage of cause-specific deaths out of total deaths  \\\n",
       "309073                                           2.169775         \n",
       "309074                                           2.718833         \n",
       "309075                                           2.504817         \n",
       "309076                                           2.571596         \n",
       "309077                                           2.611122         \n",
       "\n",
       "        Age-standardized death rate per 100 000 standard population  \\\n",
       "309073                                                NaN             \n",
       "309074                                                NaN             \n",
       "309075                                                NaN             \n",
       "309076                                                NaN             \n",
       "309077                                                NaN             \n",
       "\n",
       "        Death rate per 100 000 population  \n",
       "309073                          40.006176  \n",
       "309074                          91.586342  \n",
       "309075                         143.149284  \n",
       "309076                         227.337312  \n",
       "309077                         374.831898  "
      ]
     },
     "execution_count": 28,
     "metadata": {},
     "output_type": "execute_result"
    }
   ],
   "source": [
    "df.tail()"
   ]
  },
  {
   "cell_type": "markdown",
   "id": "49733a92",
   "metadata": {},
   "source": [
    "### checking for missing data in columns"
   ]
  },
  {
   "cell_type": "code",
   "execution_count": 15,
   "id": "833f6089",
   "metadata": {},
   "outputs": [
    {
     "data": {
      "text/plain": [
       "Region Code                                                         0\n",
       "Region Name                                                         0\n",
       "Country Code                                                        0\n",
       "Country Name                                                        0\n",
       "Year                                                                0\n",
       "Sex                                                                 0\n",
       "Age group code                                                      0\n",
       "Age Group                                                           0\n",
       "Number                                                           1665\n",
       "Percentage of cause-specific deaths out of total deaths          9576\n",
       "Age-standardized death rate per 100 000 standard population    294762\n",
       "Death rate per 100 000 population                               25332\n",
       "dtype: int64"
      ]
     },
     "execution_count": 15,
     "metadata": {},
     "output_type": "execute_result"
    }
   ],
   "source": [
    "df.isnull().sum()"
   ]
  },
  {
   "cell_type": "code",
   "execution_count": 34,
   "id": "ace7ba3b",
   "metadata": {},
   "outputs": [],
   "source": [
    "number_null=df[df['Number'].isnull()]"
   ]
  },
  {
   "cell_type": "code",
   "execution_count": 35,
   "id": "465acd2f",
   "metadata": {},
   "outputs": [],
   "source": [
    "number_null.to_csv(os.path.join(path, '02 Data','Original Data', 'number_null.csv'))"
   ]
  },
  {
   "cell_type": "code",
   "execution_count": 38,
   "id": "e61f1c56",
   "metadata": {},
   "outputs": [],
   "source": [
    "#Exporting data to check missing values\n",
    "percentage_null=df[df['Percentage of cause-specific deaths out of total deaths'].isnull()]"
   ]
  },
  {
   "cell_type": "code",
   "execution_count": 39,
   "id": "92c2fad2",
   "metadata": {},
   "outputs": [],
   "source": [
    "#Exporting data to check missing values\n",
    "percentage_null.to_csv(os.path.join(path, '02 Data','Original Data', 'percentage_null.csv'))"
   ]
  },
  {
   "cell_type": "markdown",
   "id": "4c919f00",
   "metadata": {},
   "source": [
    "### checking for dupes"
   ]
  },
  {
   "cell_type": "code",
   "execution_count": 20,
   "id": "fc2ec275",
   "metadata": {},
   "outputs": [
    {
     "data": {
      "text/plain": [
       "False"
      ]
     },
     "execution_count": 20,
     "metadata": {},
     "output_type": "execute_result"
    }
   ],
   "source": [
    "#checking for duplicate rows\n",
    "df.duplicated().any()"
   ]
  },
  {
   "cell_type": "code",
   "execution_count": 21,
   "id": "a9b25e33",
   "metadata": {},
   "outputs": [
    {
     "data": {
      "text/plain": [
       "Region Code                                                     object\n",
       "Region Name                                                     object\n",
       "Country Code                                                    object\n",
       "Country Name                                                    object\n",
       "Year                                                             int64\n",
       "Sex                                                             object\n",
       "Age group code                                                  object\n",
       "Age Group                                                       object\n",
       "Number                                                         float64\n",
       "Percentage of cause-specific deaths out of total deaths        float64\n",
       "Age-standardized death rate per 100 000 standard population    float64\n",
       "Death rate per 100 000 population                              float64\n",
       "dtype: object"
      ]
     },
     "execution_count": 21,
     "metadata": {},
     "output_type": "execute_result"
    }
   ],
   "source": [
    "df.dtypes"
   ]
  },
  {
   "cell_type": "code",
   "execution_count": 22,
   "id": "1fcb2e52",
   "metadata": {},
   "outputs": [
    {
     "data": {
      "text/plain": [
       "array(['EU', 'NAC', 'CSA', 'AS', 'OA', 'AF'], dtype=object)"
      ]
     },
     "execution_count": 22,
     "metadata": {},
     "output_type": "execute_result"
    }
   ],
   "source": [
    "df['Region Code'].unique()\n"
   ]
  },
  {
   "cell_type": "code",
   "execution_count": 23,
   "id": "9aba942a",
   "metadata": {},
   "outputs": [
    {
     "data": {
      "text/plain": [
       "array(['Europe', 'North America and the Caribbean',\n",
       "       'Central and South America', 'Asia', 'Oceania', 'Africa'],\n",
       "      dtype=object)"
      ]
     },
     "execution_count": 23,
     "metadata": {},
     "output_type": "execute_result"
    }
   ],
   "source": [
    "df['Region Name'].unique()\n"
   ]
  },
  {
   "cell_type": "code",
   "execution_count": 25,
   "id": "876f3b02",
   "metadata": {},
   "outputs": [
    {
     "data": {
      "text/plain": [
       "array(['ALB', 'ATG', 'ARG', 'ARM', 'AUS', 'AUT', 'AZE', 'BHS', 'BHR',\n",
       "       'BRB', 'BLR', 'BEL', 'BLZ', 'BIH', 'BRA', 'BRN', 'BGR', 'CPV',\n",
       "       'CAN', 'CHL', 'COL', 'CRI', 'HRV', 'CUB', 'CYP', 'CZE', 'DNK',\n",
       "       'DMA', 'DOM', 'ECU', 'EGY', 'SLV', 'EST', 'FJI', 'FIN', 'FRA',\n",
       "       'GUF', 'GEO', 'DEU', 'GRC', 'GRD', 'GLP', 'GTM', 'GUY', 'HKG',\n",
       "       'HUN', 'ISL', 'IRN', 'IRQ', 'IRL', 'ISR', 'ITA', 'JAM', 'JPN',\n",
       "       'KAZ', 'KOR', 'KWT', 'KGZ', 'LVA', 'LTU', 'LUX', 'MDV', 'MLT',\n",
       "       'MTQ', 'MUS', 'MYT', 'MEX', 'MDA', 'MNG', 'MNE', 'NLD', 'NZL',\n",
       "       'NIC', 'MKD', 'NOR', 'PAN', 'PRY', 'PER', 'PHL', 'POL', 'PRT',\n",
       "       'PRI', 'REU', 'ROU', 'RUS', 'KNA', 'LCA', 'VCT', 'STP', 'SRB',\n",
       "       'SYC', 'SGP', 'SVK', 'SVN', 'ZAF', 'ESP', 'LKA', 'SUR', 'SWE',\n",
       "       'CHE', 'SYR', 'TJK', 'THA', 'TTO', 'TUR', 'TKM', 'UKR', 'GBR',\n",
       "       'USA', 'URY', 'UZB', 'VEN', 'JOR', 'ARE', 'LBN', 'MYS', 'OMN',\n",
       "       'QAT', 'SAU'], dtype=object)"
      ]
     },
     "execution_count": 25,
     "metadata": {},
     "output_type": "execute_result"
    }
   ],
   "source": [
    "df['Country Code'].unique()"
   ]
  },
  {
   "cell_type": "code",
   "execution_count": 27,
   "id": "15992f5e",
   "metadata": {},
   "outputs": [
    {
     "data": {
      "text/html": [
       "<div>\n",
       "<style scoped>\n",
       "    .dataframe tbody tr th:only-of-type {\n",
       "        vertical-align: middle;\n",
       "    }\n",
       "\n",
       "    .dataframe tbody tr th {\n",
       "        vertical-align: top;\n",
       "    }\n",
       "\n",
       "    .dataframe thead th {\n",
       "        text-align: right;\n",
       "    }\n",
       "</style>\n",
       "<table border=\"1\" class=\"dataframe\">\n",
       "  <thead>\n",
       "    <tr style=\"text-align: right;\">\n",
       "      <th></th>\n",
       "      <th>Year</th>\n",
       "      <th>Number</th>\n",
       "      <th>Percentage of cause-specific deaths out of total deaths</th>\n",
       "      <th>Age-standardized death rate per 100 000 standard population</th>\n",
       "      <th>Death rate per 100 000 population</th>\n",
       "    </tr>\n",
       "  </thead>\n",
       "  <tbody>\n",
       "    <tr>\n",
       "      <th>count</th>\n",
       "      <td>309078.000000</td>\n",
       "      <td>307413.000000</td>\n",
       "      <td>299502.000000</td>\n",
       "      <td>14316.000000</td>\n",
       "      <td>283746.000000</td>\n",
       "    </tr>\n",
       "    <tr>\n",
       "      <th>mean</th>\n",
       "      <td>1993.194524</td>\n",
       "      <td>502.592603</td>\n",
       "      <td>2.960624</td>\n",
       "      <td>29.029961</td>\n",
       "      <td>104.666914</td>\n",
       "    </tr>\n",
       "    <tr>\n",
       "      <th>std</th>\n",
       "      <td>18.287136</td>\n",
       "      <td>3377.551746</td>\n",
       "      <td>3.690776</td>\n",
       "      <td>18.911698</td>\n",
       "      <td>267.441561</td>\n",
       "    </tr>\n",
       "    <tr>\n",
       "      <th>min</th>\n",
       "      <td>1950.000000</td>\n",
       "      <td>0.000000</td>\n",
       "      <td>0.000000</td>\n",
       "      <td>0.000000</td>\n",
       "      <td>0.000000</td>\n",
       "    </tr>\n",
       "    <tr>\n",
       "      <th>25%</th>\n",
       "      <td>1980.000000</td>\n",
       "      <td>1.000000</td>\n",
       "      <td>0.905873</td>\n",
       "      <td>16.379664</td>\n",
       "      <td>0.986812</td>\n",
       "    </tr>\n",
       "    <tr>\n",
       "      <th>50%</th>\n",
       "      <td>1996.000000</td>\n",
       "      <td>14.000000</td>\n",
       "      <td>2.175941</td>\n",
       "      <td>24.548230</td>\n",
       "      <td>8.048291</td>\n",
       "    </tr>\n",
       "    <tr>\n",
       "      <th>75%</th>\n",
       "      <td>2008.000000</td>\n",
       "      <td>114.000000</td>\n",
       "      <td>4.036242</td>\n",
       "      <td>36.186668</td>\n",
       "      <td>64.897118</td>\n",
       "    </tr>\n",
       "    <tr>\n",
       "      <th>max</th>\n",
       "      <td>2022.000000</td>\n",
       "      <td>222951.000000</td>\n",
       "      <td>100.000000</td>\n",
       "      <td>180.404481</td>\n",
       "      <td>10000.000000</td>\n",
       "    </tr>\n",
       "  </tbody>\n",
       "</table>\n",
       "</div>"
      ],
      "text/plain": [
       "                Year         Number  \\\n",
       "count  309078.000000  307413.000000   \n",
       "mean     1993.194524     502.592603   \n",
       "std        18.287136    3377.551746   \n",
       "min      1950.000000       0.000000   \n",
       "25%      1980.000000       1.000000   \n",
       "50%      1996.000000      14.000000   \n",
       "75%      2008.000000     114.000000   \n",
       "max      2022.000000  222951.000000   \n",
       "\n",
       "       Percentage of cause-specific deaths out of total deaths  \\\n",
       "count                                      299502.000000         \n",
       "mean                                            2.960624         \n",
       "std                                             3.690776         \n",
       "min                                             0.000000         \n",
       "25%                                             0.905873         \n",
       "50%                                             2.175941         \n",
       "75%                                             4.036242         \n",
       "max                                           100.000000         \n",
       "\n",
       "       Age-standardized death rate per 100 000 standard population  \\\n",
       "count                                       14316.000000             \n",
       "mean                                           29.029961             \n",
       "std                                            18.911698             \n",
       "min                                             0.000000             \n",
       "25%                                            16.379664             \n",
       "50%                                            24.548230             \n",
       "75%                                            36.186668             \n",
       "max                                           180.404481             \n",
       "\n",
       "       Death rate per 100 000 population  \n",
       "count                      283746.000000  \n",
       "mean                          104.666914  \n",
       "std                           267.441561  \n",
       "min                             0.000000  \n",
       "25%                             0.986812  \n",
       "50%                             8.048291  \n",
       "75%                            64.897118  \n",
       "max                         10000.000000  "
      ]
     },
     "execution_count": 27,
     "metadata": {},
     "output_type": "execute_result"
    }
   ],
   "source": [
    "df.describe()"
   ]
  },
  {
   "cell_type": "code",
   "execution_count": null,
   "id": "0d087bfb",
   "metadata": {},
   "outputs": [],
   "source": []
  }
 ],
 "metadata": {
  "kernelspec": {
   "display_name": "Python 3 (ipykernel)",
   "language": "python",
   "name": "python3"
  },
  "language_info": {
   "codemirror_mode": {
    "name": "ipython",
    "version": 3
   },
   "file_extension": ".py",
   "mimetype": "text/x-python",
   "name": "python",
   "nbconvert_exporter": "python",
   "pygments_lexer": "ipython3",
   "version": "3.11.7"
  }
 },
 "nbformat": 4,
 "nbformat_minor": 5
}
